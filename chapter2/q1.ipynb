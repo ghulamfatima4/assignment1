{
 "cells": [
  {
   "cell_type": "markdown",
   "metadata": {},
   "source": [
    "Task 1"
   ]
  },
  {
   "cell_type": "code",
   "execution_count": 1,
   "metadata": {},
   "outputs": [
    {
     "name": "stdout",
     "output_type": "stream",
     "text": [
      "hello how are you\n"
     ]
    }
   ],
   "source": [
    "message : str = \"hello how are you\"\n",
    "print(message)"
   ]
  },
  {
   "cell_type": "markdown",
   "metadata": {},
   "source": [
    "Task 2\n",
    "Assign a message to a variable and print that message.\n",
    "Change the value of the variable to a new message, and print the new message.\n",
    "Personal Message"
   ]
  },
  {
   "cell_type": "code",
   "execution_count": 2,
   "metadata": {},
   "outputs": [
    {
     "name": "stdout",
     "output_type": "stream",
     "text": [
      "hello hy\n"
     ]
    }
   ],
   "source": [
    "first_message : str = \"hello hy\"\n",
    "second_message : str \n",
    "second_message = first_message\n",
    "print(second_message)\n"
   ]
  },
  {
   "cell_type": "markdown",
   "metadata": {},
   "source": [
    "Task 3\n",
    "Use a variable to represent a person’s name.\n",
    "Print a message to that person, such as, “Hello Eric, would you like to learn some Python today?”\n",
    "Name Cases"
   ]
  },
  {
   "cell_type": "code",
   "execution_count": 4,
   "metadata": {},
   "outputs": [
    {
     "name": "stdout",
     "output_type": "stream",
     "text": [
      "Hello Eric, would you like to learn some Python today?\n"
     ]
    }
   ],
   "source": [
    "name : str = \"Eric\"\n",
    "message : str = f\"\"\"Hello {name}, would you like to learn some Python today?\"\"\"\n",
    "print(message)"
   ]
  },
  {
   "cell_type": "markdown",
   "metadata": {},
   "source": [
    "Task 4\n",
    "Use a variable to represent a person’s name.\n",
    "Print the person’s name in lowercase, uppercase, and title case.\n",
    "Famous Quote"
   ]
  },
  {
   "cell_type": "code",
   "execution_count": 7,
   "metadata": {},
   "outputs": [
    {
     "name": "stdout",
     "output_type": "stream",
     "text": [
      "HINA\n",
      "Hina\n",
      "hina\n"
     ]
    }
   ],
   "source": [
    "name : str = \"hina\"\n",
    "print(name.upper())\n",
    "print(name.title())\n",
    "print(name.lower())"
   ]
  },
  {
   "cell_type": "markdown",
   "metadata": {},
   "source": [
    "Task 5\n",
    "Find a quote from a famous person you admire.\n",
    "Print the quote and the name of its author.\n",
    "The output should look something like the following:\n",
    "Albert Einstein once said, “A person who never made a mistake never tried anything new.”\n",
    "6. Famous Quote 2"
   ]
  },
  {
   "cell_type": "code",
   "execution_count": 8,
   "metadata": {},
   "outputs": [
    {
     "name": "stdout",
     "output_type": "stream",
     "text": [
      "Albert Einstein once said, “A person who never made a mistake never tried anything new.”\n",
      "\n"
     ]
    }
   ],
   "source": [
    "name : str = \"Albert Einstein\"\n",
    "message : str = f\"\"\"{name} once said, “A person who never made a mistake never tried anything new.”\n",
    "\"\"\"\n",
    "print(message)"
   ]
  },
  {
   "cell_type": "markdown",
   "metadata": {},
   "source": [
    "Task 6\n",
    "Use a variable called famous_person to represent the famous person’s name.\n",
    "Compose the message and represent it with a variable called message.\n",
    "Print the message."
   ]
  },
  {
   "cell_type": "code",
   "execution_count": 9,
   "metadata": {},
   "outputs": [
    {
     "name": "stdout",
     "output_type": "stream",
     "text": [
      "hello fatima, how are you\n"
     ]
    }
   ],
   "source": [
    "name : str = \"fatima\"\n",
    "message : str = f\"\"\"hello {name}, how are you\"\"\"\n",
    "print(message)"
   ]
  },
  {
   "cell_type": "markdown",
   "metadata": {},
   "source": [
    "7. Stripping Names\n",
    "Task:\n",
    "Use a variable to represent a person’s name, and include some whitespace characters at the beginning and end of the name.\n",
    "Make sure you use each character combination, \\t and \\n, at least once.\n",
    "Print the name once, so the whitespace around the name is displayed.\n",
    "Print the name using each of the three stripping functions: lstrip(), rstrip(), and strip()."
   ]
  },
  {
   "cell_type": "code",
   "execution_count": 10,
   "metadata": {},
   "outputs": [
    {
     "name": "stdout",
     "output_type": "stream",
     "text": [
      "          ghulam fatima          \n"
     ]
    }
   ],
   "source": [
    "name : str = \"          ghulam fatima          \"\n",
    "print(name)\n"
   ]
  },
  {
   "cell_type": "code",
   "execution_count": 14,
   "metadata": {},
   "outputs": [
    {
     "name": "stdout",
     "output_type": "stream",
     "text": [
      "         Ghulam          Fatima                           \n",
      "Ghulam          Fatima                           \n",
      "         Ghulam          Fatima\n",
      "Ghulam          Fatima\n"
     ]
    }
   ],
   "source": [
    "name : str = \"         Ghulam          Fatima                           \"\n",
    "print(name)\n",
    "print(name.lstrip())\n",
    "print(name.rstrip())\n",
    "print(name.strip())"
   ]
  },
  {
   "cell_type": "markdown",
   "metadata": {},
   "source": [
    "Task 8\n",
    "Assign the values 5, 10, and 15 to three variables x, y, and z. Print their sum."
   ]
  },
  {
   "cell_type": "code",
   "execution_count": 24,
   "metadata": {},
   "outputs": [
    {
     "name": "stdout",
     "output_type": "stream",
     "text": [
      "30\n"
     ]
    }
   ],
   "source": [
    "x : int = 5\n",
    "y : int = 10\n",
    "y : int = 15\n",
    "sum = 5 + 10 + 15\n",
    "print(sum)"
   ]
  },
  {
   "cell_type": "markdown",
   "metadata": {},
   "source": [
    "Task 9\n",
    "Variable Swap\n",
    "Task: Swap the values of two variables a and b. Print the values before and after the swap."
   ]
  },
  {
   "cell_type": "code",
   "execution_count": 25,
   "metadata": {},
   "outputs": [
    {
     "name": "stdout",
     "output_type": "stream",
     "text": [
      "5\n",
      "10\n",
      "10\n",
      "5\n"
     ]
    }
   ],
   "source": [
    "a : int = 5\n",
    "b : int = 10\n",
    "c : int\n",
    "print(a)\n",
    "print(b)\n",
    "# after swap\n",
    "c = a\n",
    "a = b\n",
    "b = c\n",
    "print(a)\n",
    "print(b)\n",
    "\n",
    "\n"
   ]
  },
  {
   "cell_type": "markdown",
   "metadata": {},
   "source": [
    "Task 10\n",
    "Favorite Color\n",
    "Task: Create a variable with your favorite color and print it. Then change the variable name to\n",
    "something else and print the color again.\n"
   ]
  },
  {
   "cell_type": "code",
   "execution_count": 37,
   "metadata": {},
   "outputs": [
    {
     "name": "stdout",
     "output_type": "stream",
     "text": [
      "blue\n",
      "blue\n"
     ]
    }
   ],
   "source": [
    "favorite_color : str = \"blue\"\n",
    "print(favorite_color)\n",
    "new_favorite_color = favorite_color\n",
    "print(new_favorite_color)"
   ]
  },
  {
   "cell_type": "markdown",
   "metadata": {},
   "source": [
    "TAsk 11\n",
    "Changing Pet Name\n",
    "Task: Create a variable pet_name and set it to \"Buddy\". Change the value of pet_name to\n",
    "\"Max\" and print the new value.\n"
   ]
  },
  {
   "cell_type": "code",
   "execution_count": null,
   "metadata": {},
   "outputs": [],
   "source": [
    "pet_name : str = \"Buddy\"\n"
   ]
  },
  {
   "cell_type": "markdown",
   "metadata": {},
   "source": [
    "Task 12\n",
    "Observing Name Error\n",
    "Task: Assign the value \"Sunshine\" to a variable and print it. Then, mistakenly try to print a\n",
    "variable with a different name (like sunsine) and observe the error."
   ]
  },
  {
   "cell_type": "code",
   "execution_count": 36,
   "metadata": {},
   "outputs": [
    {
     "name": "stdout",
     "output_type": "stream",
     "text": [
      "sunshine\n"
     ]
    },
    {
     "ename": "NameError",
     "evalue": "name 'sunn' is not defined",
     "output_type": "error",
     "traceback": [
      "\u001b[1;31m---------------------------------------------------------------------------\u001b[0m",
      "\u001b[1;31mNameError\u001b[0m                                 Traceback (most recent call last)",
      "Cell \u001b[1;32mIn[36], line 3\u001b[0m\n\u001b[0;32m      1\u001b[0m sun : \u001b[38;5;28mstr\u001b[39m \u001b[38;5;241m=\u001b[39m \u001b[38;5;124m\"\u001b[39m\u001b[38;5;124msunshine\u001b[39m\u001b[38;5;124m\"\u001b[39m\n\u001b[0;32m      2\u001b[0m \u001b[38;5;28mprint\u001b[39m(sun)\n\u001b[1;32m----> 3\u001b[0m \u001b[38;5;28mprint\u001b[39m(\u001b[43msunn\u001b[49m)\n",
      "\u001b[1;31mNameError\u001b[0m: name 'sunn' is not defined"
     ]
    }
   ],
   "source": [
    "sun : str = \"sunshine\"\n",
    "print(sun)\n",
    "print(sunn)"
   ]
  },
  {
   "cell_type": "markdown",
   "metadata": {},
   "source": [
    "Task 13\n",
    "Reassigning Score\n",
    "Task: Assign the value 100 to a variable score and print it. Then assign a new value to score\n",
    "and print it again."
   ]
  },
  {
   "cell_type": "code",
   "execution_count": 35,
   "metadata": {},
   "outputs": [
    {
     "name": "stdout",
     "output_type": "stream",
     "text": [
      "100\n",
      "70\n"
     ]
    }
   ],
   "source": [
    "score : int = 100\n",
    "print(score)\n",
    "score : int = 70\n",
    "print(score)"
   ]
  },
  {
   "cell_type": "markdown",
   "metadata": {},
   "source": [
    "Task 14\n",
    "City Name\n",
    "Task: Create a string variable city and assign it the name of a city you like. Print the city"
   ]
  },
  {
   "cell_type": "code",
   "execution_count": 30,
   "metadata": {},
   "outputs": [
    {
     "name": "stdout",
     "output_type": "stream",
     "text": [
      "Lahore\n"
     ]
    }
   ],
   "source": [
    "city : str = \"Lahore\"\n",
    "print(city)"
   ]
  },
  {
   "cell_type": "markdown",
   "metadata": {},
   "source": [
    "Task 15\n",
    "Title Case Text\n",
    "Task: Create a variable text with the value \"python programming\" and print it in title case."
   ]
  },
  {
   "cell_type": "code",
   "execution_count": 28,
   "metadata": {},
   "outputs": [
    {
     "name": "stdout",
     "output_type": "stream",
     "text": [
      "Hello How Are You\n"
     ]
    }
   ],
   "source": [
    "msg : str = \"hello How Are YOU\"\n",
    "print(msg.title())"
   ]
  },
  {
   "cell_type": "markdown",
   "metadata": {},
   "source": [
    "Task 16\n",
    "Lowercase Conversion\n",
    "Task: Assign a string with mixed cases to a variable and print it in all lowercase letters.\n"
   ]
  },
  {
   "cell_type": "code",
   "execution_count": 29,
   "metadata": {},
   "outputs": [
    {
     "name": "stdout",
     "output_type": "stream",
     "text": [
      "hello how are you\n"
     ]
    }
   ],
   "source": [
    "msg : str = \"hello How Are YOU\"\n",
    "print(msg.lower())"
   ]
  },
  {
   "cell_type": "markdown",
   "metadata": {},
   "source": [
    "Task 17\n",
    "Uppercase Conversion\n",
    "Task: Assign a string with mixed cases to a variable and print it in all uppercase letters."
   ]
  },
  {
   "cell_type": "code",
   "execution_count": 26,
   "metadata": {},
   "outputs": [
    {
     "name": "stdout",
     "output_type": "stream",
     "text": [
      "HELLO HOW ARE YOU\n"
     ]
    }
   ],
   "source": [
    "msg : str = \"hello How Are YOU\"\n",
    "print(msg.upper())"
   ]
  },
  {
   "cell_type": "markdown",
   "metadata": {},
   "source": [
    "Task 18\n",
    "Current Temperature\n",
    "Task: Create a variable temperature with the value 25. Print \"The current temperature is\n",
    "[temperature] degrees.\" using the variable."
   ]
  },
  {
   "cell_type": "code",
   "execution_count": 31,
   "metadata": {},
   "outputs": [
    {
     "name": "stdout",
     "output_type": "stream",
     "text": [
      "The current temperature is [25] degrees\n"
     ]
    }
   ],
   "source": [
    "temperature : int = 25\n",
    "print(f\"\"\"The current temperature is [{temperature}] degrees\"\"\")"
   ]
  },
  {
   "cell_type": "markdown",
   "metadata": {},
   "source": [
    "Task 19\n",
    "Printing a Poem\n",
    "Task: Create a variable poem with a short poem that has multiple lines. Print the poem with\n",
    "each line starting on a new line."
   ]
  },
  {
   "cell_type": "code",
   "execution_count": 34,
   "metadata": {},
   "outputs": [
    {
     "name": "stdout",
     "output_type": "stream",
     "text": [
      "A gentle breeze, a whisper soft \n",
      " A world of green, a golden loft.\n",
      " The sun paints skies in hues of gold,\n",
      " A story untold, a tale to unfold.\n",
      "\n",
      "Nature's beauty, a sight to behold.\n"
     ]
    }
   ],
   "source": [
    "poem : str = \"\"\"A gentle breeze, a whisper soft \\n A world of green, a golden loft.\\n The sun paints skies in hues of gold,\\n A story untold, a tale to unfold.\\n\n",
    "Nature's beauty, a sight to behold.\"\"\"\n",
    "print(poem)"
   ]
  }
 ],
 "metadata": {
  "kernelspec": {
   "display_name": "Python 3",
   "language": "python",
   "name": "python3"
  },
  "language_info": {
   "codemirror_mode": {
    "name": "ipython",
    "version": 3
   },
   "file_extension": ".py",
   "mimetype": "text/x-python",
   "name": "python",
   "nbconvert_exporter": "python",
   "pygments_lexer": "ipython3",
   "version": "3.12.6"
  }
 },
 "nbformat": 4,
 "nbformat_minor": 2
}
